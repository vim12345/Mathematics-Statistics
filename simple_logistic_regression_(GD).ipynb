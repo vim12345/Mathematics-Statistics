{
  "nbformat": 4,
  "nbformat_minor": 0,
  "metadata": {
    "colab": {
      "provenance": []
    },
    "kernelspec": {
      "name": "python3",
      "display_name": "Python 3"
    },
    "language_info": {
      "name": "python"
    }
  },
  "cells": [
    {
      "cell_type": "code",
      "execution_count": 1,
      "metadata": {
        "id": "LI6l1spYBcQ-"
      },
      "outputs": [],
      "source": [
        "import numpy as np\n",
        "from sklearn.datasets import make_classification\n",
        "from sklearn.metrics import accuracy_score"
      ]
    },
    {
      "cell_type": "code",
      "source": [
        "X, y = make_classification(n_samples=500, n_features=2, n_informative=2, n_redundant=0, random_state=0)\n",
        "X_b = np.c_[np.ones((X.shape[0], 1)), X]\n",
        "\n",
        "def sigmoid(z): return 1/(1+np.exp(-z))\n",
        "\n",
        "def logistic_gb(X, y, lr=0.1, n_iters=2000):\n",
        "  theta = np.zeros(X.shape[1])\n",
        "  for _ in range(n_iters):\n",
        "    preds = sigmoid(X.dot(theta))\n",
        "    grad = X.T.dot(preds - y) / X.shape[0]\n",
        "    theta -= lr * grad\n",
        "  return theta\n",
        "theta = logistic_gb(X_b, y, lr=0.5, n_iters=2000)\n",
        "y_pred = (sigmoid(X_b.dot(theta)) >= 0.5).astype(int)\n",
        "print(\"Accuracy:\", accuracy_score(y, y_pred))"
      ],
      "metadata": {
        "colab": {
          "base_uri": "https://localhost:8080/"
        },
        "id": "z3qWb6v2BvMx",
        "outputId": "9473c743-ef63-45b5-b68c-f118a46a1df5"
      },
      "execution_count": 3,
      "outputs": [
        {
          "output_type": "stream",
          "name": "stdout",
          "text": [
            "Accuracy: 0.832\n"
          ]
        }
      ]
    },
    {
      "cell_type": "code",
      "source": [],
      "metadata": {
        "id": "Aovjn2zWDd_w"
      },
      "execution_count": null,
      "outputs": []
    }
  ]
}
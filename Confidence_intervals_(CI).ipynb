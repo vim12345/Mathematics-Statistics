{
  "nbformat": 4,
  "nbformat_minor": 0,
  "metadata": {
    "colab": {
      "provenance": []
    },
    "kernelspec": {
      "name": "python3",
      "display_name": "Python 3"
    },
    "language_info": {
      "name": "python"
    }
  },
  "cells": [
    {
      "cell_type": "code",
      "execution_count": 1,
      "metadata": {
        "colab": {
          "base_uri": "https://localhost:8080/"
        },
        "id": "5tg_QgK-LEGP",
        "outputId": "183f780e-4735-452b-9c18-84842d9a81fc"
      },
      "outputs": [
        {
          "output_type": "stream",
          "name": "stdout",
          "text": [
            "Mean: 5.291990792654255\n",
            "95% CI: (np.float64(4.730149164788082), np.float64(5.853832420520429))\n"
          ]
        }
      ],
      "source": [
        "import numpy as np\n",
        "from scipy import stats\n",
        "\n",
        "data = np.random.normal(loc=5, scale=2, size=50)\n",
        "n = len(data)\n",
        "mean = np.mean(data)\n",
        "std_err = stats.sem(data)  # s/sqrt(n)\n",
        "ci = stats.t.interval(0.95, df=n-1, loc=mean, scale=std_err)\n",
        "print(\"Mean:\", mean)\n",
        "print(\"95% CI:\", ci)\n"
      ]
    }
  ]
}
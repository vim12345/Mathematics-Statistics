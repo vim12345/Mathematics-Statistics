{
  "nbformat": 4,
  "nbformat_minor": 0,
  "metadata": {
    "colab": {
      "provenance": []
    },
    "kernelspec": {
      "name": "python3",
      "display_name": "Python 3"
    },
    "language_info": {
      "name": "python"
    }
  },
  "cells": [
    {
      "cell_type": "code",
      "execution_count": 1,
      "metadata": {
        "colab": {
          "base_uri": "https://localhost:8080/"
        },
        "id": "Q2iqpQLcL0CH",
        "outputId": "98a49f73-00f6-4445-c68c-9cb670a5f035"
      },
      "outputs": [
        {
          "output_type": "stream",
          "name": "stdout",
          "text": [
            "t-statistic: -2.518495605576887 p-value: 0.014566481874899048\n"
          ]
        }
      ],
      "source": [
        "import numpy as np\n",
        "from scipy import stats\n",
        "\n",
        "a = np.random.normal(0, 1, size=30)\n",
        "b = np.random.normal(0.5, 1, size=30)\n",
        "tstat, pval = stats.ttest_ind(a, b)\n",
        "print(\"t-statistic:\", tstat, \"p-value:\", pval)\n"
      ]
    }
  ]
}
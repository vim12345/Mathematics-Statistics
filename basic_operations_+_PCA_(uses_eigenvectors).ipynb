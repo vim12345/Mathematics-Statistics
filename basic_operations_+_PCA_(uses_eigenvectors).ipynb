{
  "nbformat": 4,
  "nbformat_minor": 0,
  "metadata": {
    "colab": {
      "provenance": []
    },
    "kernelspec": {
      "name": "python3",
      "display_name": "Python 3"
    },
    "language_info": {
      "name": "python"
    }
  },
  "cells": [
    {
      "cell_type": "code",
      "execution_count": 1,
      "metadata": {
        "id": "_UWnkgUPO1fr"
      },
      "outputs": [],
      "source": [
        "import numpy as np\n",
        "from numpy.linalg import inv, det, eig\n",
        "from sklearn.decomposition import PCA"
      ]
    },
    {
      "cell_type": "code",
      "source": [
        "v = np.array([1, 2, 3])\n",
        "M = np.array([[2, 0, 1],\n",
        "              [1, 3, 2],\n",
        "              [0, 1, 1]], dtype=float)\n",
        "print(\"v shape:\", v.shape)\n",
        "print(\"M shape:\", M.shape)\n",
        "print(\"M transpose:\\n\", M.T)\n",
        "print(\"Matrix vector product:\", M.dot(v))"
      ],
      "metadata": {
        "colab": {
          "base_uri": "https://localhost:8080/"
        },
        "id": "sHYzsbf_PSg2",
        "outputId": "c5121e26-48b8-4947-8658-96ec065034c4"
      },
      "execution_count": 2,
      "outputs": [
        {
          "output_type": "stream",
          "name": "stdout",
          "text": [
            "v shape: (3,)\n",
            "M shape: (3, 3)\n",
            "M transpose:\n",
            " [[2. 1. 0.]\n",
            " [0. 3. 1.]\n",
            " [1. 2. 1.]]\n",
            "Matrix vector product: [ 5. 13.  5.]\n"
          ]
        }
      ]
    },
    {
      "cell_type": "code",
      "source": [
        "# Determinant and inverse\n",
        "print(\"det(M) =\", det(M))\n",
        "if np.abs(det(M)) > 1e-8:\n",
        "  print(\"inv(M):\\n\", inv(M))\n",
        "\n",
        "# Eigen decomposition\n",
        "vals, vecs = eig(M)\n",
        "print(\"Eigenvalues:\", vals)\n",
        "print(\"Eigenvactors (columns):\\n\", vecs)"
      ],
      "metadata": {
        "colab": {
          "base_uri": "https://localhost:8080/"
        },
        "id": "rnKLxlrXQKHN",
        "outputId": "bf7b9d86-c835-4265-f511-292c373b8c4b"
      },
      "execution_count": 4,
      "outputs": [
        {
          "output_type": "stream",
          "name": "stdout",
          "text": [
            "det(M) = 2.9999999999999996\n",
            "inv(M):\n",
            " [[ 0.33333333  0.33333333 -1.        ]\n",
            " [-0.33333333  0.66666667 -1.        ]\n",
            " [ 0.33333333 -0.66666667  2.        ]]\n",
            "Eigenvalues: [3.87938524 1.65270364 0.46791111]\n",
            "Eigenvactors (columns):\n",
            " [[-0.17196417  0.92371144 -0.49926042]\n",
            " [-0.93057968 -0.20938838 -0.40700082]\n",
            " [-0.32318693 -0.32080162  0.76491134]]\n"
          ]
        }
      ]
    },
    {
      "cell_type": "code",
      "source": [
        "# PCA example (using sklearn) on synthetic data\n",
        "X = np.vstack([np.random.normal(loc=0, scale=1, size=(100, 2)),\n",
        "               np.random.normal(loc=5, scale=0.5, size=(50,2))])\n",
        "pca = PCA(n_components=2)\n",
        "Xp = pca.fit_transform(X)\n",
        "print(\"Explained variance ratio:\", pca.explained_variance_ratio_)"
      ],
      "metadata": {
        "colab": {
          "base_uri": "https://localhost:8080/"
        },
        "id": "adQeXVKlQzrQ",
        "outputId": "2bdaf014-be8f-42ef-8822-c87c13aba495"
      },
      "execution_count": 5,
      "outputs": [
        {
          "output_type": "stream",
          "name": "stdout",
          "text": [
            "Explained variance ratio: [0.9482433 0.0517567]\n"
          ]
        }
      ]
    },
    {
      "cell_type": "code",
      "source": [],
      "metadata": {
        "id": "Cm6rSC9FRtJe"
      },
      "execution_count": null,
      "outputs": []
    },
    {
      "cell_type": "markdown",
      "source": [
        "**Notes:** PCA uses eigen-decomposition of covariance matrix; the principal components are eigenvectors with largest eigenvalues."
      ],
      "metadata": {
        "id": "bGxYMnokRvP_"
      }
    }
  ]
}
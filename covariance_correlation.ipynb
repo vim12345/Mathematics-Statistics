{
  "nbformat": 4,
  "nbformat_minor": 0,
  "metadata": {
    "colab": {
      "provenance": []
    },
    "kernelspec": {
      "name": "python3",
      "display_name": "Python 3"
    },
    "language_info": {
      "name": "python"
    }
  },
  "cells": [
    {
      "cell_type": "code",
      "execution_count": 1,
      "metadata": {
        "colab": {
          "base_uri": "https://localhost:8080/"
        },
        "id": "qii2BnByJYkS",
        "outputId": "5ea09a43-57b6-4d4d-c0ce-c943896c3340"
      },
      "outputs": [
        {
          "output_type": "stream",
          "name": "stdout",
          "text": [
            "Covarinace matrix:\n",
            " [[0.6032275  1.24239971]\n",
            " [1.24239971 2.7965506 ]]\n",
            "Pearson correlation:\n",
            "           x         y\n",
            "x  1.000000  0.956554\n",
            "y  0.956554  1.000000\n"
          ]
        }
      ],
      "source": [
        "import numpy as np\n",
        "import pandas as pd\n",
        "\n",
        "rng = np.random.default_rng(42)\n",
        "x = rng.normal(size=100)\n",
        "y = 2*x + rng.normal(scale=0.5, size=100)\n",
        "df = pd.DataFrame({\"x\": x, \"y\": y})\n",
        "\n",
        "print(\"Covarinace matrix:\\n\", np.cov(x, y))\n",
        "print(\"Pearson correlation:\\n\", df.corr())"
      ]
    },
    {
      "cell_type": "code",
      "source": [],
      "metadata": {
        "id": "ZyPF9JXGK9aI"
      },
      "execution_count": null,
      "outputs": []
    }
  ]
}
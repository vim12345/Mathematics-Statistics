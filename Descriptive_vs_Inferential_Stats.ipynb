{
  "nbformat": 4,
  "nbformat_minor": 0,
  "metadata": {
    "colab": {
      "provenance": []
    },
    "kernelspec": {
      "name": "python3",
      "display_name": "Python 3"
    },
    "language_info": {
      "name": "python"
    }
  },
  "cells": [
    {
      "cell_type": "code",
      "execution_count": null,
      "metadata": {
        "id": "j6A7TUlGYp2U"
      },
      "outputs": [],
      "source": [
        "import pandas as pd\n",
        "from scipy import stats\n",
        "\n",
        "# load data\n",
        "data = pd.read_csv('data.csv')\n",
        "\n",
        "# perform descriptive statistics\n",
        "print(data.describe())\n",
        "\n",
        "# perform inferential statistics\n",
        "sample = data.sample(30)\n",
        "t_stat, p_val = stats.ttest_1samp(sample, 10)\n",
        "print(f'T-statistic: {t_stat}, p-value: {p_val}')"
      ]
    }
  ]
}